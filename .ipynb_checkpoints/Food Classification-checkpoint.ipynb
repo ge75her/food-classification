{
 "cells": [
  {
   "cell_type": "markdown",
   "id": "92170376",
   "metadata": {
    "id": "056b634f",
    "papermill": {
     "duration": 0.01946,
     "end_time": "2022-01-11T13:53:48.185236",
     "exception": false,
     "start_time": "2022-01-11T13:53:48.165776",
     "status": "completed"
    },
    "tags": []
   },
   "source": [
    "# Food Classification\n",
    "## 1. Data Preprocessing\n",
    "\n",
    "This dataset is collected from Internet. It has in total 11 classes: Bread, Dairy product, Dessert, Egg, Fried food, Meat, Noodles/Pasta, Rice, Seafood, Soup, and Vegetable/Fruit. There are 9866 images in Training set, 3430 images in Validation set and 3347 images in Testing set."
   ]
  },
  {
   "cell_type": "code",
   "execution_count": 1,
   "id": "e961dac0",
   "metadata": {
    "execution": {
     "iopub.execute_input": "2022-01-11T13:53:48.227278Z",
     "iopub.status.busy": "2022-01-11T13:53:48.225773Z",
     "iopub.status.idle": "2022-01-11T13:53:48.405120Z",
     "shell.execute_reply": "2022-01-11T13:53:48.404388Z",
     "shell.execute_reply.started": "2022-01-11T12:46:50.887459Z"
    },
    "executionInfo": {
     "elapsed": 379,
     "status": "ok",
     "timestamp": 1641902060837,
     "user": {
      "displayName": "Yanran Zhang",
      "photoUrl": "https://lh3.googleusercontent.com/a/default-user=s64",
      "userId": "00510483234249847034"
     },
     "user_tz": -60
    },
    "id": "12ffec2b",
    "papermill": {
     "duration": 0.201155,
     "end_time": "2022-01-11T13:53:48.405284",
     "exception": false,
     "start_time": "2022-01-11T13:53:48.204129",
     "status": "completed"
    },
    "tags": []
   },
   "outputs": [],
   "source": [
    "import cv2\n",
    "import os\n",
    "import numpy as np"
   ]
  },
  {
   "cell_type": "code",
   "execution_count": 2,
   "id": "9dbc020f",
   "metadata": {
    "execution": {
     "iopub.execute_input": "2022-01-11T13:53:48.448374Z",
     "iopub.status.busy": "2022-01-11T13:53:48.447621Z",
     "iopub.status.idle": "2022-01-11T13:53:48.449522Z",
     "shell.execute_reply": "2022-01-11T13:53:48.449902Z",
     "shell.execute_reply.started": "2022-01-11T12:46:51.119176Z"
    },
    "executionInfo": {
     "elapsed": 14,
     "status": "ok",
     "timestamp": 1641902060841,
     "user": {
      "displayName": "Yanran Zhang",
      "photoUrl": "https://lh3.googleusercontent.com/a/default-user=s64",
      "userId": "00510483234249847034"
     },
     "user_tz": -60
    },
    "id": "0f81444b",
    "papermill": {
     "duration": 0.026619,
     "end_time": "2022-01-11T13:53:48.450039",
     "exception": false,
     "start_time": "2022-01-11T13:53:48.423420",
     "status": "completed"
    },
    "tags": []
   },
   "outputs": [],
   "source": [
    "def read_file(path,label_print): \n",
    "    #label_print is a boolean_value, if True, return label value\n",
    "    img_dir=sorted(os.listdir(path))\n",
    "    x=np.zeros((len(img_dir),64,64,3),dtype=np.uint8)\n",
    "    y=np.zeros((len(img_dir)),dtype=np.uint8)\n",
    "    for i,file in enumerate(img_dir):\n",
    "        img=cv2.imread(os.path.join(path,file))\n",
    "        x[i,:,:]=cv2.resize(img,(64,64))\n",
    "        if label_print:\n",
    "            y[i]=int(file.split('_')[0])\n",
    "    if label_print:\n",
    "        return x,y\n",
    "    else:\n",
    "        return x"
   ]
  },
  {
   "cell_type": "code",
   "execution_count": 3,
   "id": "fe531e18",
   "metadata": {
    "execution": {
     "iopub.execute_input": "2022-01-11T13:53:48.490150Z",
     "iopub.status.busy": "2022-01-11T13:53:48.487961Z",
     "iopub.status.idle": "2022-01-11T13:57:14.628303Z",
     "shell.execute_reply": "2022-01-11T13:57:14.627622Z",
     "shell.execute_reply.started": "2022-01-11T12:46:51.131520Z"
    },
    "executionInfo": {
     "elapsed": 397200,
     "status": "ok",
     "timestamp": 1641902458029,
     "user": {
      "displayName": "Yanran Zhang",
      "photoUrl": "https://lh3.googleusercontent.com/a/default-user=s64",
      "userId": "00510483234249847034"
     },
     "user_tz": -60
    },
    "id": "297e034e",
    "papermill": {
     "duration": 206.160601,
     "end_time": "2022-01-11T13:57:14.628456",
     "exception": false,
     "start_time": "2022-01-11T13:53:48.467855",
     "status": "completed"
    },
    "tags": []
   },
   "outputs": [],
   "source": [
    "base_path='/kaggle/input/food11'\n",
    "X_train,y_train=read_file(os.path.join(base_path,'training'),True)\n",
    "X_val,y_val=read_file(os.path.join(base_path,'validation'),True)\n",
    "X_test=read_file(os.path.join(base_path,'evaluation'),False)"
   ]
  },
  {
   "cell_type": "markdown",
   "id": "ccc17659",
   "metadata": {
    "id": "cb0d9159",
    "papermill": {
     "duration": 0.01812,
     "end_time": "2022-01-11T13:57:14.667203",
     "exception": false,
     "start_time": "2022-01-11T13:57:14.649083",
     "status": "completed"
    },
    "tags": []
   },
   "source": [
    "## 2. Data Loader\n",
    "Using PyTorch to load dataset"
   ]
  },
  {
   "cell_type": "code",
   "execution_count": 4,
   "id": "fa8493c9",
   "metadata": {
    "execution": {
     "iopub.execute_input": "2022-01-11T13:57:14.708041Z",
     "iopub.status.busy": "2022-01-11T13:57:14.707370Z",
     "iopub.status.idle": "2022-01-11T13:57:16.304590Z",
     "shell.execute_reply": "2022-01-11T13:57:16.304119Z",
     "shell.execute_reply.started": "2022-01-11T12:48:27.772487Z"
    },
    "executionInfo": {
     "elapsed": 5615,
     "status": "ok",
     "timestamp": 1641902463634,
     "user": {
      "displayName": "Yanran Zhang",
      "photoUrl": "https://lh3.googleusercontent.com/a/default-user=s64",
      "userId": "00510483234249847034"
     },
     "user_tz": -60
    },
    "id": "c1374bc4",
    "papermill": {
     "duration": 1.619323,
     "end_time": "2022-01-11T13:57:16.304720",
     "exception": false,
     "start_time": "2022-01-11T13:57:14.685397",
     "status": "completed"
    },
    "tags": []
   },
   "outputs": [],
   "source": [
    "import torch\n",
    "import torchvision\n",
    "import torchvision.transforms as transforms\n",
    "from torch.utils.data import DataLoader,Dataset"
   ]
  },
  {
   "cell_type": "code",
   "execution_count": 5,
   "id": "fc754122",
   "metadata": {
    "execution": {
     "iopub.execute_input": "2022-01-11T13:57:16.348540Z",
     "iopub.status.busy": "2022-01-11T13:57:16.347745Z",
     "iopub.status.idle": "2022-01-11T13:57:16.349523Z",
     "shell.execute_reply": "2022-01-11T13:57:16.349965Z",
     "shell.execute_reply.started": "2022-01-11T12:48:27.802680Z"
    },
    "executionInfo": {
     "elapsed": 41,
     "status": "ok",
     "timestamp": 1641902463635,
     "user": {
      "displayName": "Yanran Zhang",
      "photoUrl": "https://lh3.googleusercontent.com/a/default-user=s64",
      "userId": "00510483234249847034"
     },
     "user_tz": -60
    },
    "id": "4393d998",
    "papermill": {
     "duration": 0.026486,
     "end_time": "2022-01-11T13:57:16.350092",
     "exception": false,
     "start_time": "2022-01-11T13:57:16.323606",
     "status": "completed"
    },
    "tags": []
   },
   "outputs": [],
   "source": [
    "class Food(Dataset):\n",
    "    def __init__(self,x,y=None,transform=None):\n",
    "        self.x=x\n",
    "        self.y=y\n",
    "        if y is not None:\n",
    "            self.y=torch.LongTensor(y)\n",
    "        self.transform=transform\n",
    "    def __len__(self):\n",
    "        return len(self.x)\n",
    "    def __getitem__(self,index):\n",
    "        X=self.x[index]\n",
    "        if self.transform is not None:\n",
    "            X=self.transform(X)\n",
    "        if self.y is not None:\n",
    "            Y=self.y[index]\n",
    "            return X,Y\n",
    "        else:\n",
    "            return X\n",
    "    "
   ]
  },
  {
   "cell_type": "code",
   "execution_count": 6,
   "id": "1f0031c7",
   "metadata": {
    "execution": {
     "iopub.execute_input": "2022-01-11T13:57:16.392870Z",
     "iopub.status.busy": "2022-01-11T13:57:16.392262Z",
     "iopub.status.idle": "2022-01-11T13:57:16.407061Z",
     "shell.execute_reply": "2022-01-11T13:57:16.406628Z",
     "shell.execute_reply.started": "2022-01-11T12:48:27.805057Z"
    },
    "executionInfo": {
     "elapsed": 39,
     "status": "ok",
     "timestamp": 1641902463636,
     "user": {
      "displayName": "Yanran Zhang",
      "photoUrl": "https://lh3.googleusercontent.com/a/default-user=s64",
      "userId": "00510483234249847034"
     },
     "user_tz": -60
    },
    "id": "b32cd9a0",
    "papermill": {
     "duration": 0.039169,
     "end_time": "2022-01-11T13:57:16.407175",
     "exception": false,
     "start_time": "2022-01-11T13:57:16.368006",
     "status": "completed"
    },
    "tags": []
   },
   "outputs": [],
   "source": [
    "train_transform=transforms.Compose([\n",
    "    transforms.ToPILImage(),\n",
    "    transforms.RandomHorizontalFlip(),\n",
    "    transforms.RandomRotation(15),\n",
    "    transforms.ToTensor(),\n",
    "    transforms.Normalize(mean=[0.5,0.5,0.5],std=[0.2,0.2,0.2])\n",
    "])\n",
    "val_transform=transforms.Compose([\n",
    "    transforms.ToPILImage(),\n",
    "    transforms.ToTensor(),\n",
    "    transforms.Normalize(mean=[0.5,0.5,0.5],std=[0.2,0.2,0.2])\n",
    "])\n",
    "training_set=Food(X_train,y_train,train_transform)\n",
    "val_set=Food(X_val,y_val,val_transform)"
   ]
  },
  {
   "cell_type": "code",
   "execution_count": 7,
   "id": "f64306cc",
   "metadata": {
    "execution": {
     "iopub.execute_input": "2022-01-11T13:57:16.448463Z",
     "iopub.status.busy": "2022-01-11T13:57:16.446959Z",
     "iopub.status.idle": "2022-01-11T13:57:16.449076Z",
     "shell.execute_reply": "2022-01-11T13:57:16.449474Z",
     "shell.execute_reply.started": "2022-01-11T12:48:27.807305Z"
    },
    "executionInfo": {
     "elapsed": 30,
     "status": "ok",
     "timestamp": 1641902463636,
     "user": {
      "displayName": "Yanran Zhang",
      "photoUrl": "https://lh3.googleusercontent.com/a/default-user=s64",
      "userId": "00510483234249847034"
     },
     "user_tz": -60
    },
    "id": "32f56254",
    "papermill": {
     "duration": 0.024425,
     "end_time": "2022-01-11T13:57:16.449607",
     "exception": false,
     "start_time": "2022-01-11T13:57:16.425182",
     "status": "completed"
    },
    "tags": []
   },
   "outputs": [],
   "source": [
    "training_loader=DataLoader(training_set,batch_size=64,shuffle=True)\n",
    "val_loader=DataLoader(val_set,batch_size=64,shuffle=False)"
   ]
  },
  {
   "cell_type": "markdown",
   "id": "ea6bddbd",
   "metadata": {
    "id": "9eff1a23",
    "papermill": {
     "duration": 0.017702,
     "end_time": "2022-01-11T13:57:16.485174",
     "exception": false,
     "start_time": "2022-01-11T13:57:16.467472",
     "status": "completed"
    },
    "tags": []
   },
   "source": [
    "## 3. Define VGG16 Model"
   ]
  },
  {
   "cell_type": "code",
   "execution_count": 8,
   "id": "daf21c1d",
   "metadata": {
    "execution": {
     "iopub.execute_input": "2022-01-11T13:57:16.539737Z",
     "iopub.status.busy": "2022-01-11T13:57:16.534684Z",
     "iopub.status.idle": "2022-01-11T13:57:16.542621Z",
     "shell.execute_reply": "2022-01-11T13:57:16.543026Z",
     "shell.execute_reply.started": "2022-01-11T12:48:27.809670Z"
    },
    "executionInfo": {
     "elapsed": 7,
     "status": "ok",
     "timestamp": 1641902463953,
     "user": {
      "displayName": "Yanran Zhang",
      "photoUrl": "https://lh3.googleusercontent.com/a/default-user=s64",
      "userId": "00510483234249847034"
     },
     "user_tz": -60
    },
    "id": "2b659387",
    "papermill": {
     "duration": 0.040062,
     "end_time": "2022-01-11T13:57:16.543155",
     "exception": false,
     "start_time": "2022-01-11T13:57:16.503093",
     "status": "completed"
    },
    "tags": []
   },
   "outputs": [],
   "source": [
    "import torch.nn as nn\n",
    "class VGG16(nn.Module):\n",
    "    def __init__(self):\n",
    "        super(VGG16,self).__init__()\n",
    "        \n",
    "        self.layer1=nn.Sequential(\n",
    "        nn.Conv2d(in_channels=3,out_channels=64,kernel_size=3,padding='same'),\n",
    "        nn.BatchNorm2d(64),\n",
    "        nn.ReLU(inplace=True),\n",
    "        nn.Conv2d(in_channels=64,out_channels=64,kernel_size=3,padding='same'),\n",
    "        nn.BatchNorm2d(64),\n",
    "        nn.ReLU(inplace=True),\n",
    "        nn.MaxPool2d(2,2) #[64,16,16]\n",
    "        )\n",
    "        self.layer2=nn.Sequential(\n",
    "        nn.Conv2d(in_channels=64,out_channels=128,kernel_size=3,padding='same'),\n",
    "        nn.BatchNorm2d(128),\n",
    "        nn.ReLU(inplace=True),\n",
    "        nn.Conv2d(in_channels=128,out_channels=128,kernel_size=3,padding='same'),\n",
    "        nn.BatchNorm2d(128),\n",
    "        nn.ReLU(inplace=True),\n",
    "        nn.MaxPool2d(2,2)) #[128,8,8]\n",
    "        \n",
    "        self.layer3=nn.Sequential(\n",
    "        nn.Conv2d(in_channels=128,out_channels=256,kernel_size=3,padding='same'),\n",
    "        nn.BatchNorm2d(256),\n",
    "        nn.ReLU(inplace=True),\n",
    "        nn.Conv2d(in_channels=256,out_channels=256,kernel_size=3,padding='same'),\n",
    "        nn.BatchNorm2d(256),\n",
    "        nn.ReLU(inplace=True),\n",
    "        nn.Conv2d(in_channels=256,out_channels=256,kernel_size=3,padding='same'),\n",
    "        nn.BatchNorm2d(256),\n",
    "        nn.ReLU(inplace=True),\n",
    "        nn.MaxPool2d(2,2)) #[256,4,4]\n",
    "        \n",
    "        self.layer4=nn.Sequential(\n",
    "        nn.Conv2d(in_channels=256,out_channels=512,kernel_size=3,padding='same'),\n",
    "        nn.BatchNorm2d(512),\n",
    "        nn.ReLU(inplace=True),\n",
    "        nn.Conv2d(in_channels=512,out_channels=512,kernel_size=3,padding='same'),\n",
    "        nn.BatchNorm2d(512),\n",
    "        nn.ReLU(inplace=True),\n",
    "        nn.Conv2d(in_channels=512,out_channels=512,kernel_size=3,padding='same'),\n",
    "        nn.BatchNorm2d(512),\n",
    "        nn.ReLU(inplace=True),\n",
    "        nn.MaxPool2d(2,2)) #[512,2,2]\n",
    "        \n",
    "        self.layer5=nn.Sequential(\n",
    "        nn.Conv2d(in_channels=512,out_channels=512,kernel_size=3,padding='same'),\n",
    "        nn.BatchNorm2d(512),\n",
    "        nn.ReLU(inplace=True),\n",
    "        nn.Conv2d(in_channels=512,out_channels=512,kernel_size=3,padding='same'),\n",
    "        nn.BatchNorm2d(512),\n",
    "        nn.ReLU(inplace=True),\n",
    "        nn.Conv2d(in_channels=512,out_channels=512,kernel_size=3,padding='same'),\n",
    "        nn.BatchNorm2d(512),\n",
    "        nn.ReLU(inplace=True),\n",
    "        nn.MaxPool2d(2,2)) #[512,1,1]\n",
    "        \n",
    "        self.conv=nn.Sequential(\n",
    "        self.layer1,\n",
    "        self.layer2,\n",
    "        self.layer3,\n",
    "        self.layer4,\n",
    "        self.layer5)\n",
    "        \n",
    "        self.fc=nn.Sequential(\n",
    "        nn.Linear(512*2*2,1024),\n",
    "        nn.ReLU(inplace=True),\n",
    "        #nn.Dropout(),\n",
    "        nn.Linear(1024,512),\n",
    "        nn.ReLU(inplace=True),\n",
    "        #nn.Dropout(),\n",
    "        nn.Linear(512,11))\n",
    "        \n",
    "    def forward(self,x):\n",
    "        x=self.conv(x)\n",
    "        #print(x.shape)\n",
    "        x=x.view(x.size()[0],-1)\n",
    "        #print(x.shape)\n",
    "        x=self.fc(x)\n",
    "        \n",
    "        return x\n",
    "    "
   ]
  },
  {
   "cell_type": "markdown",
   "id": "4466fa92",
   "metadata": {
    "id": "p3jzZKxyWl22",
    "papermill": {
     "duration": 0.017777,
     "end_time": "2022-01-11T13:57:16.578815",
     "exception": false,
     "start_time": "2022-01-11T13:57:16.561038",
     "status": "completed"
    },
    "tags": []
   },
   "source": [
    "## Define Lenet-5 Network"
   ]
  },
  {
   "cell_type": "code",
   "execution_count": 9,
   "id": "523a6848",
   "metadata": {
    "execution": {
     "iopub.execute_input": "2022-01-11T13:57:16.624157Z",
     "iopub.status.busy": "2022-01-11T13:57:16.622615Z",
     "iopub.status.idle": "2022-01-11T13:57:16.624746Z",
     "shell.execute_reply": "2022-01-11T13:57:16.625178Z",
     "shell.execute_reply.started": "2022-01-11T12:48:27.812144Z"
    },
    "executionInfo": {
     "elapsed": 9,
     "status": "ok",
     "timestamp": 1641902463955,
     "user": {
      "displayName": "Yanran Zhang",
      "photoUrl": "https://lh3.googleusercontent.com/a/default-user=s64",
      "userId": "00510483234249847034"
     },
     "user_tz": -60
    },
    "id": "tloABrOjWl23",
    "papermill": {
     "duration": 0.028687,
     "end_time": "2022-01-11T13:57:16.625304",
     "exception": false,
     "start_time": "2022-01-11T13:57:16.596617",
     "status": "completed"
    },
    "tags": []
   },
   "outputs": [],
   "source": [
    "class Lenet(nn.Module):\n",
    "    def __init__(self):\n",
    "        super(Lenet,self).__init__()\n",
    "        #[32,32,3]\n",
    "        self.layer1=nn.Sequential(\n",
    "        nn.Conv2d(in_channels=3,out_channels=6,kernel_size=5,padding=2),\n",
    "        nn.BatchNorm2d(6),\n",
    "        nn.ReLU(inplace=True),\n",
    "        nn.MaxPool2d(2,2)) #[6,16,16]\n",
    "        \n",
    "        self.layer2=nn.Sequential(\n",
    "        nn.Conv2d(in_channels=6,out_channels=16,kernel_size=5),\n",
    "        nn.BatchNorm2d(16),\n",
    "        nn.ReLU(inplace=True),\n",
    "        nn.MaxPool2d(2,2)) #[16,6,6]\n",
    "        \n",
    "        self.conv_layer=nn.Sequential(\n",
    "        self.layer1,\n",
    "        self.layer2)\n",
    "        \n",
    "        self.fc=nn.Sequential(\n",
    "        nn.Linear(16*14*14,120),\n",
    "        nn.ReLU(inplace=True),\n",
    "        nn.Linear(120,84),\n",
    "        nn.ReLU(inplace=True),\n",
    "        nn.Linear(84,11)\n",
    "        )\n",
    "        \n",
    "    def forward(self,x):\n",
    "        x=self.conv_layer(x)\n",
    "        x=x.view(x.size()[0],-1)\n",
    "        x=self.fc(x)\n",
    "        return x"
   ]
  },
  {
   "cell_type": "code",
   "execution_count": 10,
   "id": "55d363ee",
   "metadata": {
    "execution": {
     "iopub.execute_input": "2022-01-11T13:57:16.670899Z",
     "iopub.status.busy": "2022-01-11T13:57:16.670361Z",
     "iopub.status.idle": "2022-01-11T13:57:16.673456Z",
     "shell.execute_reply": "2022-01-11T13:57:16.673817Z",
     "shell.execute_reply.started": "2022-01-11T12:48:27.814528Z"
    },
    "executionInfo": {
     "elapsed": 9,
     "status": "ok",
     "timestamp": 1641902463956,
     "user": {
      "displayName": "Yanran Zhang",
      "photoUrl": "https://lh3.googleusercontent.com/a/default-user=s64",
      "userId": "00510483234249847034"
     },
     "user_tz": -60
    },
    "id": "2L3HIASTixrJ",
    "papermill": {
     "duration": 0.030756,
     "end_time": "2022-01-11T13:57:16.673966",
     "exception": false,
     "start_time": "2022-01-11T13:57:16.643210",
     "status": "completed"
    },
    "tags": []
   },
   "outputs": [],
   "source": [
    "class Classifier(nn.Module):\n",
    "    def __init__(self):\n",
    "        super(Classifier, self).__init__()\n",
    "        #torch.nn.Conv2d(in_channels, out_channels, kernel_size, stride, padding)\n",
    "        #torch.nn.MaxPool2d(kernel_size, stride, padding)\n",
    "        #input 維度 [3, 64,64]\n",
    "        self.cnn = nn.Sequential(\n",
    "            nn.Conv2d(3, 64, 3, 1, 1),  # [64, 64,64]\n",
    "            nn.BatchNorm2d(64),\n",
    "            nn.ReLU(),\n",
    "            nn.MaxPool2d(2, 2, 0),      # [64, 32,32]\n",
    "\n",
    "            nn.Conv2d(64, 128, 3, 1, 1), # [128, 32,32]\n",
    "            nn.BatchNorm2d(128),\n",
    "            nn.ReLU(),\n",
    "            nn.MaxPool2d(2, 2, 0),      # [128, 16,16]\n",
    "\n",
    "            nn.Conv2d(128, 256, 3, 1, 1), # [256, 16,16\n",
    "            nn.BatchNorm2d(256),\n",
    "            nn.ReLU(),\n",
    "            nn.MaxPool2d(2, 2, 0),      # [256, 8,8]\n",
    "\n",
    "            nn.Conv2d(256, 512, 3, 1, 1), # [512, 8,8]\n",
    "            nn.BatchNorm2d(512),\n",
    "            nn.ReLU(),\n",
    "            nn.MaxPool2d(2, 2, 0),       # [512, 4,4]\n",
    "            \n",
    "            nn.Conv2d(512, 512, 3, 1, 1), # [512, 4,4]\n",
    "            nn.BatchNorm2d(512),\n",
    "            nn.ReLU(),\n",
    "            nn.MaxPool2d(2, 2, 0),       # [512, 2,2]\n",
    "        )\n",
    "        self.fc = nn.Sequential(\n",
    "            nn.Linear(512*2*2, 1024),\n",
    "            nn.ReLU(),\n",
    "            nn.Linear(1024, 512),\n",
    "            nn.ReLU(),\n",
    "            nn.Linear(512, 11)\n",
    "        )\n",
    "\n",
    "    def forward(self, x):\n",
    "        out = self.cnn(x)\n",
    "        out = out.view(out.size()[0], -1)\n",
    "        return self.fc(out)"
   ]
  },
  {
   "cell_type": "code",
   "execution_count": 11,
   "id": "e42fe9cb",
   "metadata": {
    "execution": {
     "iopub.execute_input": "2022-01-11T13:57:16.759349Z",
     "iopub.status.busy": "2022-01-11T13:57:16.758528Z",
     "iopub.status.idle": "2022-01-11T13:57:16.762889Z",
     "shell.execute_reply": "2022-01-11T13:57:16.762438Z",
     "shell.execute_reply.started": "2022-01-11T12:48:27.816902Z"
    },
    "executionInfo": {
     "elapsed": 9,
     "status": "ok",
     "timestamp": 1641902463956,
     "user": {
      "displayName": "Yanran Zhang",
      "photoUrl": "https://lh3.googleusercontent.com/a/default-user=s64",
      "userId": "00510483234249847034"
     },
     "user_tz": -60
    },
    "id": "XUVbAhVi5T5f",
    "papermill": {
     "duration": 0.071287,
     "end_time": "2022-01-11T13:57:16.763006",
     "exception": false,
     "start_time": "2022-01-11T13:57:16.691719",
     "status": "completed"
    },
    "tags": []
   },
   "outputs": [],
   "source": [
    "# if GPU avaliable\n",
    "device=torch.device('cuda:0' if torch.cuda.is_available() else 'cpu')"
   ]
  },
  {
   "cell_type": "code",
   "execution_count": 12,
   "id": "928fa1c2",
   "metadata": {
    "execution": {
     "iopub.execute_input": "2022-01-11T13:57:16.804183Z",
     "iopub.status.busy": "2022-01-11T13:57:16.803585Z",
     "iopub.status.idle": "2022-01-11T13:57:19.732467Z",
     "shell.execute_reply": "2022-01-11T13:57:19.731824Z",
     "shell.execute_reply.started": "2022-01-11T12:48:27.819414Z"
    },
    "executionInfo": {
     "elapsed": 9521,
     "status": "ok",
     "timestamp": 1641902473469,
     "user": {
      "displayName": "Yanran Zhang",
      "photoUrl": "https://lh3.googleusercontent.com/a/default-user=s64",
      "userId": "00510483234249847034"
     },
     "user_tz": -60
    },
    "id": "3AIMk22_Wl25",
    "papermill": {
     "duration": 2.951542,
     "end_time": "2022-01-11T13:57:19.732601",
     "exception": false,
     "start_time": "2022-01-11T13:57:16.781059",
     "status": "completed"
    },
    "tags": []
   },
   "outputs": [],
   "source": [
    "model=Classifier()\n",
    "model=model.to(device)"
   ]
  },
  {
   "cell_type": "markdown",
   "id": "0bfd408b",
   "metadata": {
    "id": "396950bd",
    "papermill": {
     "duration": 0.01877,
     "end_time": "2022-01-11T13:57:19.771156",
     "exception": false,
     "start_time": "2022-01-11T13:57:19.752386",
     "status": "completed"
    },
    "tags": []
   },
   "source": [
    "## 4. Train process"
   ]
  },
  {
   "cell_type": "code",
   "execution_count": 13,
   "id": "0c24c68b",
   "metadata": {
    "execution": {
     "iopub.execute_input": "2022-01-11T13:57:19.812446Z",
     "iopub.status.busy": "2022-01-11T13:57:19.809834Z",
     "iopub.status.idle": "2022-01-11T13:57:19.814915Z",
     "shell.execute_reply": "2022-01-11T13:57:19.814487Z",
     "shell.execute_reply.started": "2022-01-11T12:48:27.821956Z"
    },
    "executionInfo": {
     "elapsed": 48,
     "status": "ok",
     "timestamp": 1641902473470,
     "user": {
      "displayName": "Yanran Zhang",
      "photoUrl": "https://lh3.googleusercontent.com/a/default-user=s64",
      "userId": "00510483234249847034"
     },
     "user_tz": -60
    },
    "id": "abc6825a",
    "papermill": {
     "duration": 0.025597,
     "end_time": "2022-01-11T13:57:19.815033",
     "exception": false,
     "start_time": "2022-01-11T13:57:19.789436",
     "status": "completed"
    },
    "tags": []
   },
   "outputs": [],
   "source": [
    "cri=torch.nn.CrossEntropyLoss()\n",
    "optimizer=torch.optim.Adam(model.parameters(),lr=0.001)"
   ]
  },
  {
   "cell_type": "code",
   "execution_count": 14,
   "id": "c96af3a7",
   "metadata": {
    "execution": {
     "iopub.execute_input": "2022-01-11T13:57:19.859196Z",
     "iopub.status.busy": "2022-01-11T13:57:19.858542Z",
     "iopub.status.idle": "2022-01-11T13:57:19.861664Z",
     "shell.execute_reply": "2022-01-11T13:57:19.862084Z",
     "shell.execute_reply.started": "2022-01-11T12:48:27.824342Z"
    },
    "executionInfo": {
     "elapsed": 47,
     "status": "ok",
     "timestamp": 1641902473471,
     "user": {
      "displayName": "Yanran Zhang",
      "photoUrl": "https://lh3.googleusercontent.com/a/default-user=s64",
      "userId": "00510483234249847034"
     },
     "user_tz": -60
    },
    "id": "aYkWMV_vLqq9",
    "outputId": "7810019a-1468-40b4-b2af-bc7b08675db7",
    "papermill": {
     "duration": 0.028791,
     "end_time": "2022-01-11T13:57:19.862212",
     "exception": false,
     "start_time": "2022-01-11T13:57:19.833421",
     "status": "completed"
    },
    "tags": []
   },
   "outputs": [
    {
     "data": {
      "text/plain": [
       "9866"
      ]
     },
     "execution_count": 14,
     "metadata": {},
     "output_type": "execute_result"
    }
   ],
   "source": [
    "len(training_set)"
   ]
  },
  {
   "cell_type": "code",
   "execution_count": 15,
   "id": "8fbd7288",
   "metadata": {
    "execution": {
     "iopub.execute_input": "2022-01-11T13:57:19.910309Z",
     "iopub.status.busy": "2022-01-11T13:57:19.909679Z",
     "iopub.status.idle": "2022-01-11T14:04:06.421656Z",
     "shell.execute_reply": "2022-01-11T14:04:06.422346Z",
     "shell.execute_reply.started": "2022-01-11T12:48:27.826672Z"
    },
    "executionInfo": {
     "elapsed": 477688,
     "status": "ok",
     "timestamp": 1641902951131,
     "user": {
      "displayName": "Yanran Zhang",
      "photoUrl": "https://lh3.googleusercontent.com/a/default-user=s64",
      "userId": "00510483234249847034"
     },
     "user_tz": -60
    },
    "id": "5bc2bde2",
    "outputId": "b4fda31a-fc74-4c9a-deb8-1b6b26cb6e09",
    "papermill": {
     "duration": 406.541328,
     "end_time": "2022-01-11T14:04:06.422590",
     "exception": false,
     "start_time": "2022-01-11T13:57:19.881262",
     "status": "completed"
    },
    "tags": []
   },
   "outputs": [
    {
     "name": "stdout",
     "output_type": "stream",
     "text": [
      "epoch: 1 train Accuracy:0.2823 train loss:0.0316\n",
      "epoch: 1 val Accuracy:0.3108 val loss:0.0304\n",
      "epoch: 2 train Accuracy:0.3869 train loss:0.0273\n",
      "epoch: 2 val Accuracy:0.3965 val loss:0.0281\n",
      "epoch: 3 train Accuracy:0.4572 train loss:0.0245\n",
      "epoch: 3 val Accuracy:0.4484 val loss:0.0255\n",
      "epoch: 4 train Accuracy:0.4989 train loss:0.0226\n",
      "epoch: 4 val Accuracy:0.4329 val loss:0.0267\n",
      "epoch: 5 train Accuracy:0.5359 train loss:0.0210\n",
      "epoch: 5 val Accuracy:0.5012 val loss:0.0234\n",
      "epoch: 6 train Accuracy:0.5767 train loss:0.0193\n",
      "epoch: 6 val Accuracy:0.5370 val loss:0.0220\n",
      "epoch: 7 train Accuracy:0.5956 train loss:0.0185\n",
      "epoch: 7 val Accuracy:0.5913 val loss:0.0198\n",
      "epoch: 8 train Accuracy:0.6261 train loss:0.0169\n",
      "epoch: 8 val Accuracy:0.5061 val loss:0.0242\n",
      "epoch: 9 train Accuracy:0.6416 train loss:0.0162\n",
      "epoch: 9 val Accuracy:0.5350 val loss:0.0224\n",
      "epoch: 10 train Accuracy:0.6721 train loss:0.0148\n",
      "epoch: 10 val Accuracy:0.5810 val loss:0.0203\n",
      "epoch: 11 train Accuracy:0.6882 train loss:0.0142\n",
      "epoch: 11 val Accuracy:0.5904 val loss:0.0202\n",
      "epoch: 12 train Accuracy:0.7060 train loss:0.0132\n",
      "epoch: 12 val Accuracy:0.6178 val loss:0.0186\n",
      "epoch: 13 train Accuracy:0.7194 train loss:0.0126\n",
      "epoch: 13 val Accuracy:0.6271 val loss:0.0185\n",
      "epoch: 14 train Accuracy:0.7396 train loss:0.0116\n",
      "epoch: 14 val Accuracy:0.5834 val loss:0.0208\n",
      "epoch: 15 train Accuracy:0.7527 train loss:0.0109\n",
      "epoch: 15 val Accuracy:0.5948 val loss:0.0215\n",
      "epoch: 16 train Accuracy:0.7774 train loss:0.0100\n",
      "epoch: 16 val Accuracy:0.6641 val loss:0.0171\n",
      "epoch: 17 train Accuracy:0.7936 train loss:0.0093\n",
      "epoch: 17 val Accuracy:0.6676 val loss:0.0180\n",
      "epoch: 18 train Accuracy:0.8048 train loss:0.0088\n",
      "epoch: 18 val Accuracy:0.6289 val loss:0.0210\n",
      "epoch: 19 train Accuracy:0.8146 train loss:0.0083\n",
      "epoch: 19 val Accuracy:0.6656 val loss:0.0186\n",
      "epoch: 20 train Accuracy:0.8313 train loss:0.0076\n",
      "epoch: 20 val Accuracy:0.6522 val loss:0.0197\n",
      "epoch: 21 train Accuracy:0.8368 train loss:0.0073\n",
      "epoch: 21 val Accuracy:0.6478 val loss:0.0202\n",
      "epoch: 22 train Accuracy:0.8620 train loss:0.0062\n",
      "epoch: 22 val Accuracy:0.6394 val loss:0.0224\n",
      "epoch: 23 train Accuracy:0.8718 train loss:0.0058\n",
      "epoch: 23 val Accuracy:0.6513 val loss:0.0225\n",
      "epoch: 24 train Accuracy:0.8840 train loss:0.0053\n",
      "epoch: 24 val Accuracy:0.6638 val loss:0.0206\n",
      "epoch: 25 train Accuracy:0.8891 train loss:0.0050\n",
      "epoch: 25 val Accuracy:0.6761 val loss:0.0207\n",
      "epoch: 26 train Accuracy:0.8922 train loss:0.0047\n",
      "epoch: 26 val Accuracy:0.6784 val loss:0.0217\n",
      "epoch: 27 train Accuracy:0.9049 train loss:0.0043\n",
      "epoch: 27 val Accuracy:0.6440 val loss:0.0249\n",
      "epoch: 28 train Accuracy:0.9055 train loss:0.0042\n",
      "epoch: 28 val Accuracy:0.6761 val loss:0.0228\n",
      "epoch: 29 train Accuracy:0.9130 train loss:0.0039\n",
      "epoch: 29 val Accuracy:0.6784 val loss:0.0221\n",
      "epoch: 30 train Accuracy:0.9332 train loss:0.0030\n",
      "epoch: 30 val Accuracy:0.6770 val loss:0.0234\n",
      "epoch: 31 train Accuracy:0.9374 train loss:0.0029\n",
      "epoch: 31 val Accuracy:0.6662 val loss:0.0260\n",
      "epoch: 32 train Accuracy:0.9330 train loss:0.0029\n",
      "epoch: 32 val Accuracy:0.6120 val loss:0.0316\n",
      "epoch: 33 train Accuracy:0.9409 train loss:0.0028\n",
      "epoch: 33 val Accuracy:0.6831 val loss:0.0241\n",
      "epoch: 34 train Accuracy:0.9431 train loss:0.0025\n",
      "epoch: 34 val Accuracy:0.6910 val loss:0.0252\n",
      "epoch: 35 train Accuracy:0.9417 train loss:0.0026\n",
      "epoch: 35 val Accuracy:0.6641 val loss:0.0254\n",
      "epoch: 36 train Accuracy:0.9506 train loss:0.0023\n",
      "epoch: 36 val Accuracy:0.6598 val loss:0.0281\n",
      "epoch: 37 train Accuracy:0.9496 train loss:0.0023\n",
      "epoch: 37 val Accuracy:0.6892 val loss:0.0247\n",
      "epoch: 38 train Accuracy:0.9476 train loss:0.0025\n",
      "epoch: 38 val Accuracy:0.6554 val loss:0.0287\n",
      "epoch: 39 train Accuracy:0.9518 train loss:0.0022\n",
      "epoch: 39 val Accuracy:0.6886 val loss:0.0244\n",
      "epoch: 40 train Accuracy:0.9573 train loss:0.0020\n",
      "epoch: 40 val Accuracy:0.6860 val loss:0.0254\n",
      "epoch: 41 train Accuracy:0.9644 train loss:0.0016\n",
      "epoch: 41 val Accuracy:0.6848 val loss:0.0279\n",
      "epoch: 42 train Accuracy:0.9603 train loss:0.0018\n",
      "epoch: 42 val Accuracy:0.6729 val loss:0.0298\n",
      "epoch: 43 train Accuracy:0.9600 train loss:0.0019\n",
      "epoch: 43 val Accuracy:0.6627 val loss:0.0300\n",
      "epoch: 44 train Accuracy:0.9564 train loss:0.0020\n",
      "epoch: 44 val Accuracy:0.6738 val loss:0.0281\n",
      "epoch: 45 train Accuracy:0.9729 train loss:0.0013\n",
      "epoch: 45 val Accuracy:0.6810 val loss:0.0287\n",
      "epoch: 46 train Accuracy:0.9731 train loss:0.0013\n",
      "epoch: 46 val Accuracy:0.6755 val loss:0.0297\n",
      "epoch: 47 train Accuracy:0.9761 train loss:0.0011\n",
      "epoch: 47 val Accuracy:0.6647 val loss:0.0325\n",
      "epoch: 48 train Accuracy:0.9717 train loss:0.0013\n",
      "epoch: 48 val Accuracy:0.6528 val loss:0.0337\n",
      "epoch: 49 train Accuracy:0.9560 train loss:0.0022\n",
      "epoch: 49 val Accuracy:0.6598 val loss:0.0325\n",
      "epoch: 50 train Accuracy:0.9747 train loss:0.0012\n",
      "epoch: 50 val Accuracy:0.6793 val loss:0.0294\n"
     ]
    }
   ],
   "source": [
    "\n",
    "for epoch in range(50):\n",
    "    train_acc=0.0\n",
    "    train_loss=0.0\n",
    "    val_acc=0.0\n",
    "    val_loss=0.0\n",
    "    model.train() #open dropout layers\n",
    "    for i,data in enumerate(training_loader):\n",
    "        optimizer.zero_grad()\n",
    "        inputs,labels=data\n",
    "        inputs = inputs.to(device)\n",
    "        labels = labels.to(device)\n",
    "        train_pred=model(inputs)\n",
    "        batch_loss=cri(train_pred,labels)\n",
    "        batch_loss.backward()\n",
    "        optimizer.step()\n",
    "        #train_acc += np.sum(np.argmax(train_pred.cpu().data.numpy(), axis=1) == data[1].numpy())\n",
    "        train_acc+=np.sum(np.argmax(train_pred.cpu().data.numpy(),axis=1)==labels.cpu().numpy())\n",
    "        train_loss+=batch_loss.item()\n",
    "    #if epoch%9==0:\n",
    "    print('epoch:',epoch+1,'train Accuracy:{:.4f} train loss:{:.4f}'.format(train_acc/len(traing_loader),train_loss/len(training_loader)))\n",
    "    #print('finish train!')\n",
    "    \n",
    "    model.eval()\n",
    "    with torch.no_grad():\n",
    "        for i,data in enumerate(val_loader):\n",
    "            inputs,labels=data\n",
    "            inputs = inputs.to(device)\n",
    "            labels = labels.to(device)\n",
    "            val_pred=model(inputs)\n",
    "            batch_loss=cri(val_pred,labels)\n",
    "        #train_acc += np.sum(np.argmax(train_pred.data.numpy(), axis=1) == data[1].numpy())\n",
    "            val_acc+=np.sum(np.argmax(val_pred.cpu().data.numpy(),axis=1)==labels.cpu().numpy())\n",
    "            val_loss+=batch_loss.item()\n",
    "    #if epoch%9==0:\n",
    "        print('epoch:',epoch+1,'val Accuracy:{:.4f} val loss:{:.4f}'.format(val_acc/len(val_loader),val_loss/len(val_loader)))\n"
   ]
  },
  {
   "cell_type": "code",
   "execution_count": 16,
   "id": "f2103d18",
   "metadata": {
    "execution": {
     "iopub.execute_input": "2022-01-11T14:04:06.523553Z",
     "iopub.status.busy": "2022-01-11T14:04:06.522314Z",
     "iopub.status.idle": "2022-01-11T14:04:06.584290Z",
     "shell.execute_reply": "2022-01-11T14:04:06.583762Z",
     "shell.execute_reply.started": "2022-01-11T12:48:27.829119Z"
    },
    "executionInfo": {
     "elapsed": 48,
     "status": "ok",
     "timestamp": 1641902951134,
     "user": {
      "displayName": "Yanran Zhang",
      "photoUrl": "https://lh3.googleusercontent.com/a/default-user=s64",
      "userId": "00510483234249847034"
     },
     "user_tz": -60
    },
    "id": "ugGM9E6ut-zN",
    "papermill": {
     "duration": 0.114,
     "end_time": "2022-01-11T14:04:06.584418",
     "exception": false,
     "start_time": "2022-01-11T14:04:06.470418",
     "status": "completed"
    },
    "tags": []
   },
   "outputs": [],
   "source": [
    "# concat train set and val set to increase the dataset and get a better performance\n",
    "train_val_x = np.concatenate((X_train, X_val), axis=0)\n",
    "train_val_y = np.concatenate((y_train, y_val), axis=0)\n",
    "train_val_set = Food(train_val_x, train_val_y, train_transform)\n",
    "train_val_loader = DataLoader(train_val_set, batch_size=32, shuffle=True)"
   ]
  },
  {
   "cell_type": "code",
   "execution_count": 17,
   "id": "7ad26c97",
   "metadata": {
    "execution": {
     "iopub.execute_input": "2022-01-11T14:04:06.681445Z",
     "iopub.status.busy": "2022-01-11T14:04:06.680675Z",
     "iopub.status.idle": "2022-01-11T14:12:07.551132Z",
     "shell.execute_reply": "2022-01-11T14:12:07.550503Z",
     "shell.execute_reply.started": "2022-01-11T12:48:27.831303Z"
    },
    "executionInfo": {
     "elapsed": 574679,
     "status": "ok",
     "timestamp": 1641904303213,
     "user": {
      "displayName": "Yanran Zhang",
      "photoUrl": "https://lh3.googleusercontent.com/a/default-user=s64",
      "userId": "00510483234249847034"
     },
     "user_tz": -60
    },
    "id": "afa6fd99",
    "outputId": "72b7d79b-9f7f-4dc7-abc1-f6ce3c8c2cda",
    "papermill": {
     "duration": 480.921849,
     "end_time": "2022-01-11T14:12:07.551310",
     "exception": false,
     "start_time": "2022-01-11T14:04:06.629461",
     "status": "completed"
    },
    "tags": []
   },
   "outputs": [
    {
     "name": "stdout",
     "output_type": "stream",
     "text": [
      "epoch: 1 train Accuracy:0.3160 train loss:0.0614\n",
      "epoch: 2 train Accuracy:0.4058 train loss:0.0527\n",
      "epoch: 3 train Accuracy:0.4768 train loss:0.0472\n",
      "epoch: 4 train Accuracy:0.5233 train loss:0.0431\n",
      "epoch: 5 train Accuracy:0.5688 train loss:0.0392\n",
      "epoch: 6 train Accuracy:0.5967 train loss:0.0364\n",
      "epoch: 7 train Accuracy:0.6304 train loss:0.0334\n",
      "epoch: 8 train Accuracy:0.6532 train loss:0.0315\n",
      "epoch: 9 train Accuracy:0.6755 train loss:0.0293\n",
      "epoch: 10 train Accuracy:0.7019 train loss:0.0271\n",
      "epoch: 11 train Accuracy:0.7170 train loss:0.0260\n",
      "epoch: 12 train Accuracy:0.7311 train loss:0.0242\n",
      "epoch: 13 train Accuracy:0.7519 train loss:0.0224\n",
      "epoch: 14 train Accuracy:0.7715 train loss:0.0209\n",
      "epoch: 15 train Accuracy:0.7917 train loss:0.0193\n",
      "epoch: 16 train Accuracy:0.8034 train loss:0.0180\n",
      "epoch: 17 train Accuracy:0.8221 train loss:0.0162\n",
      "epoch: 18 train Accuracy:0.8315 train loss:0.0154\n",
      "epoch: 19 train Accuracy:0.8505 train loss:0.0137\n",
      "epoch: 20 train Accuracy:0.8594 train loss:0.0129\n",
      "epoch: 21 train Accuracy:0.8739 train loss:0.0115\n",
      "epoch: 22 train Accuracy:0.8850 train loss:0.0106\n",
      "epoch: 23 train Accuracy:0.8941 train loss:0.0096\n",
      "epoch: 24 train Accuracy:0.9015 train loss:0.0088\n",
      "epoch: 25 train Accuracy:0.9113 train loss:0.0080\n",
      "epoch: 26 train Accuracy:0.9167 train loss:0.0076\n",
      "epoch: 27 train Accuracy:0.9251 train loss:0.0068\n",
      "epoch: 28 train Accuracy:0.9271 train loss:0.0067\n",
      "epoch: 29 train Accuracy:0.9364 train loss:0.0058\n",
      "epoch: 30 train Accuracy:0.9361 train loss:0.0058\n",
      "epoch: 31 train Accuracy:0.9471 train loss:0.0049\n",
      "epoch: 32 train Accuracy:0.9435 train loss:0.0052\n",
      "epoch: 33 train Accuracy:0.9485 train loss:0.0048\n",
      "epoch: 34 train Accuracy:0.9525 train loss:0.0044\n",
      "epoch: 35 train Accuracy:0.9525 train loss:0.0043\n",
      "epoch: 36 train Accuracy:0.9581 train loss:0.0039\n",
      "epoch: 37 train Accuracy:0.9551 train loss:0.0041\n",
      "epoch: 38 train Accuracy:0.9568 train loss:0.0040\n",
      "epoch: 39 train Accuracy:0.9584 train loss:0.0039\n",
      "epoch: 40 train Accuracy:0.9614 train loss:0.0036\n",
      "epoch: 41 train Accuracy:0.9572 train loss:0.0038\n",
      "epoch: 42 train Accuracy:0.9675 train loss:0.0030\n",
      "epoch: 43 train Accuracy:0.9637 train loss:0.0033\n",
      "epoch: 44 train Accuracy:0.9654 train loss:0.0031\n",
      "epoch: 45 train Accuracy:0.9644 train loss:0.0033\n",
      "epoch: 46 train Accuracy:0.9713 train loss:0.0028\n",
      "epoch: 47 train Accuracy:0.9689 train loss:0.0030\n",
      "epoch: 48 train Accuracy:0.9689 train loss:0.0030\n",
      "epoch: 49 train Accuracy:0.9713 train loss:0.0027\n",
      "epoch: 50 train Accuracy:0.9722 train loss:0.0025\n"
     ]
    }
   ],
   "source": [
    "model_best = Classifier().cuda()\n",
    "loss = nn.CrossEntropyLoss() \n",
    "optimizer = torch.optim.Adam(model_best.parameters(), lr=0.001) \n",
    "\n",
    "\n",
    "for epoch in range(50):\n",
    "    train_acc=0.0\n",
    "    train_loss=0.0\n",
    "    model_best.train()\n",
    "    for i,data in enumerate(train_val_loader):\n",
    "        optimizer.zero_grad()\n",
    "        inputs,labels=data\n",
    "        inputs=inputs.to(device)\n",
    "        labels=labels.to(device)\n",
    "        train_pred=model_best(inputs)\n",
    "        batch_loss=cri(train_pred,labels)\n",
    "        batch_loss.backward()\n",
    "        optimizer.step()\n",
    "\n",
    "        train_acc+=np.sum(np.argmax(train_pred.cpu().data.numpy(),axis=1)==labels.cpu().numpy())\n",
    "        train_loss+=batch_loss.item()\n",
    "\n",
    "  #if epoch%9==0:\n",
    "    print('epoch:',epoch+1,'train Accuracy:{:.4f} train loss:{:.4f}'.format(train_acc/len(train_val_loader),train_loss/len(train_val_loader)))\n"
   ]
  },
  {
   "cell_type": "markdown",
   "id": "622390a7",
   "metadata": {
    "id": "oKkXzJjz9QlX",
    "papermill": {
     "duration": 0.057154,
     "end_time": "2022-01-11T14:12:07.665386",
     "exception": false,
     "start_time": "2022-01-11T14:12:07.608232",
     "status": "completed"
    },
    "tags": []
   },
   "source": [
    "## 5. Test process"
   ]
  },
  {
   "cell_type": "code",
   "execution_count": 18,
   "id": "8e757f8b",
   "metadata": {
    "execution": {
     "iopub.execute_input": "2022-01-11T14:12:07.785734Z",
     "iopub.status.busy": "2022-01-11T14:12:07.784173Z",
     "iopub.status.idle": "2022-01-11T14:12:07.786354Z",
     "shell.execute_reply": "2022-01-11T14:12:07.786759Z",
     "shell.execute_reply.started": "2022-01-11T12:48:27.833655Z"
    },
    "executionInfo": {
     "elapsed": 219,
     "status": "ok",
     "timestamp": 1641904329771,
     "user": {
      "displayName": "Yanran Zhang",
      "photoUrl": "https://lh3.googleusercontent.com/a/default-user=s64",
      "userId": "00510483234249847034"
     },
     "user_tz": -60
    },
    "id": "Dml3ZBiyxLS-",
    "papermill": {
     "duration": 0.063718,
     "end_time": "2022-01-11T14:12:07.786909",
     "exception": false,
     "start_time": "2022-01-11T14:12:07.723191",
     "status": "completed"
    },
    "tags": []
   },
   "outputs": [],
   "source": [
    "test_set=Food(X_test,y=None,transform=val_transform)\n",
    "test_loader=DataLoader(test_set,batch_size=32,shuffle=False)"
   ]
  },
  {
   "cell_type": "code",
   "execution_count": 19,
   "id": "40c2b2b4",
   "metadata": {
    "execution": {
     "iopub.execute_input": "2022-01-11T14:12:07.903610Z",
     "iopub.status.busy": "2022-01-11T14:12:07.903078Z",
     "iopub.status.idle": "2022-01-11T14:12:08.886788Z",
     "shell.execute_reply": "2022-01-11T14:12:08.887379Z",
     "shell.execute_reply.started": "2022-01-11T12:48:27.836152Z"
    },
    "executionInfo": {
     "elapsed": 1465,
     "status": "ok",
     "timestamp": 1641904622332,
     "user": {
      "displayName": "Yanran Zhang",
      "photoUrl": "https://lh3.googleusercontent.com/a/default-user=s64",
      "userId": "00510483234249847034"
     },
     "user_tz": -60
    },
    "id": "WL9Kfa_99tn6",
    "papermill": {
     "duration": 1.044955,
     "end_time": "2022-01-11T14:12:08.887572",
     "exception": false,
     "start_time": "2022-01-11T14:12:07.842617",
     "status": "completed"
    },
    "tags": []
   },
   "outputs": [],
   "source": [
    "model_best.eval()\n",
    "pred=[]\n",
    "with torch.no_grad():\n",
    "    for data in test_loader:\n",
    "        inputs=data.to(device)\n",
    "        test_pred=model_best(inputs)\n",
    "        test_label=np.argmax(test_pred.cpu().data.numpy(),axis=1)\n",
    "\n",
    "        for y in test_label:\n",
    "\n",
    "            pred.append(y)"
   ]
  },
  {
   "cell_type": "code",
   "execution_count": 20,
   "id": "65b8eb74",
   "metadata": {
    "execution": {
     "iopub.execute_input": "2022-01-11T14:12:09.005969Z",
     "iopub.status.busy": "2022-01-11T14:12:09.002569Z",
     "iopub.status.idle": "2022-01-11T14:12:09.010310Z",
     "shell.execute_reply": "2022-01-11T14:12:09.010674Z",
     "shell.execute_reply.started": "2022-01-11T12:48:27.838438Z"
    },
    "executionInfo": {
     "elapsed": 254,
     "status": "ok",
     "timestamp": 1641904625031,
     "user": {
      "displayName": "Yanran Zhang",
      "photoUrl": "https://lh3.googleusercontent.com/a/default-user=s64",
      "userId": "00510483234249847034"
     },
     "user_tz": -60
    },
    "id": "9lpHETaT_O3F",
    "papermill": {
     "duration": 0.066858,
     "end_time": "2022-01-11T14:12:09.010802",
     "exception": false,
     "start_time": "2022-01-11T14:12:08.943944",
     "status": "completed"
    },
    "tags": []
   },
   "outputs": [],
   "source": [
    "# save resulted label to csv file\n",
    "\n",
    "with open(\"./predict.csv\", 'w') as f:\n",
    "    f.write('Id,Category\\n')\n",
    "    for i, y in  enumerate(pred):\n",
    "        f.write('{},{}\\n'.format(i, y))"
   ]
  },
  {
   "cell_type": "code",
   "execution_count": 1,
   "id": "b0a9ac57",
   "metadata": {},
   "outputs": [],
   "source": [
    "import torch"
   ]
  },
  {
   "cell_type": "code",
   "execution_count": 8,
   "id": "217c266b",
   "metadata": {},
   "outputs": [
    {
     "data": {
      "text/plain": [
       "1"
      ]
     },
     "execution_count": 8,
     "metadata": {},
     "output_type": "execute_result"
    }
   ],
   "source": [
    "a=torch.tensor([[1,2,3]])\n",
    "a.size(0)"
   ]
  },
  {
   "cell_type": "code",
   "execution_count": 9,
   "id": "e99b45ec",
   "metadata": {},
   "outputs": [
    {
     "data": {
      "text/plain": [
       "3"
      ]
     },
     "execution_count": 9,
     "metadata": {},
     "output_type": "execute_result"
    }
   ],
   "source": [
    "a.squeeze().size(0)"
   ]
  },
  {
   "cell_type": "code",
   "execution_count": null,
   "id": "351ae79d",
   "metadata": {},
   "outputs": [],
   "source": []
  }
 ],
 "metadata": {
  "kernelspec": {
   "display_name": "Python 3",
   "language": "python",
   "name": "python3"
  },
  "language_info": {
   "codemirror_mode": {
    "name": "ipython",
    "version": 3
   },
   "file_extension": ".py",
   "mimetype": "text/x-python",
   "name": "python",
   "nbconvert_exporter": "python",
   "pygments_lexer": "ipython3",
   "version": "3.8.8"
  },
  "papermill": {
   "default_parameters": {},
   "duration": 1111.740347,
   "end_time": "2022-01-11T14:12:11.403329",
   "environment_variables": {},
   "exception": null,
   "input_path": "__notebook__.ipynb",
   "output_path": "__notebook__.ipynb",
   "parameters": {},
   "start_time": "2022-01-11T13:53:39.662982",
   "version": "2.3.3"
  }
 },
 "nbformat": 4,
 "nbformat_minor": 5
}
